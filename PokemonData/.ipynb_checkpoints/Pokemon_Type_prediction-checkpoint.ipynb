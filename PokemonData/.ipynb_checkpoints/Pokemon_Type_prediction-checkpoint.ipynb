{
 "cells": [
  {
   "cell_type": "code",
   "execution_count": 35,
   "id": "187f5e05-c0c0-4360-96ab-6325f61b901c",
   "metadata": {},
   "outputs": [],
   "source": [
    "import pandas as pd\n",
    "import numpy as np\n",
    "import matplotlib.pyplot as plt\n",
    "import seaborn as sns"
   ]
  },
  {
   "cell_type": "code",
   "execution_count": 46,
   "id": "575f3fe4-abde-4bfc-8745-e0ba33797fbb",
   "metadata": {},
   "outputs": [
    {
     "data": {
      "text/html": [
       "<div>\n",
       "<style scoped>\n",
       "    .dataframe tbody tr th:only-of-type {\n",
       "        vertical-align: middle;\n",
       "    }\n",
       "\n",
       "    .dataframe tbody tr th {\n",
       "        vertical-align: top;\n",
       "    }\n",
       "\n",
       "    .dataframe thead th {\n",
       "        text-align: right;\n",
       "    }\n",
       "</style>\n",
       "<table border=\"1\" class=\"dataframe\">\n",
       "  <thead>\n",
       "    <tr style=\"text-align: right;\">\n",
       "      <th></th>\n",
       "      <th>#</th>\n",
       "      <th>Name</th>\n",
       "      <th>Type 1</th>\n",
       "      <th>Type 2</th>\n",
       "      <th>Total</th>\n",
       "      <th>HP</th>\n",
       "      <th>Attack</th>\n",
       "      <th>Defense</th>\n",
       "      <th>Sp. Atk</th>\n",
       "      <th>Sp. Def</th>\n",
       "      <th>Speed</th>\n",
       "      <th>Generation</th>\n",
       "      <th>Legendary</th>\n",
       "    </tr>\n",
       "  </thead>\n",
       "  <tbody>\n",
       "    <tr>\n",
       "      <th>0</th>\n",
       "      <td>1</td>\n",
       "      <td>Bulbasaur</td>\n",
       "      <td>Grass</td>\n",
       "      <td>Poison</td>\n",
       "      <td>318</td>\n",
       "      <td>45</td>\n",
       "      <td>49</td>\n",
       "      <td>49</td>\n",
       "      <td>65</td>\n",
       "      <td>65</td>\n",
       "      <td>45</td>\n",
       "      <td>1</td>\n",
       "      <td>False</td>\n",
       "    </tr>\n",
       "    <tr>\n",
       "      <th>1</th>\n",
       "      <td>2</td>\n",
       "      <td>Ivysaur</td>\n",
       "      <td>Grass</td>\n",
       "      <td>Poison</td>\n",
       "      <td>405</td>\n",
       "      <td>60</td>\n",
       "      <td>62</td>\n",
       "      <td>63</td>\n",
       "      <td>80</td>\n",
       "      <td>80</td>\n",
       "      <td>60</td>\n",
       "      <td>1</td>\n",
       "      <td>False</td>\n",
       "    </tr>\n",
       "    <tr>\n",
       "      <th>2</th>\n",
       "      <td>3</td>\n",
       "      <td>Venusaur</td>\n",
       "      <td>Grass</td>\n",
       "      <td>Poison</td>\n",
       "      <td>525</td>\n",
       "      <td>80</td>\n",
       "      <td>82</td>\n",
       "      <td>83</td>\n",
       "      <td>100</td>\n",
       "      <td>100</td>\n",
       "      <td>80</td>\n",
       "      <td>1</td>\n",
       "      <td>False</td>\n",
       "    </tr>\n",
       "    <tr>\n",
       "      <th>3</th>\n",
       "      <td>3</td>\n",
       "      <td>VenusaurMega Venusaur</td>\n",
       "      <td>Grass</td>\n",
       "      <td>Poison</td>\n",
       "      <td>625</td>\n",
       "      <td>80</td>\n",
       "      <td>100</td>\n",
       "      <td>123</td>\n",
       "      <td>122</td>\n",
       "      <td>120</td>\n",
       "      <td>80</td>\n",
       "      <td>1</td>\n",
       "      <td>False</td>\n",
       "    </tr>\n",
       "    <tr>\n",
       "      <th>4</th>\n",
       "      <td>4</td>\n",
       "      <td>Charmander</td>\n",
       "      <td>Fire</td>\n",
       "      <td>NaN</td>\n",
       "      <td>309</td>\n",
       "      <td>39</td>\n",
       "      <td>52</td>\n",
       "      <td>43</td>\n",
       "      <td>60</td>\n",
       "      <td>50</td>\n",
       "      <td>65</td>\n",
       "      <td>1</td>\n",
       "      <td>False</td>\n",
       "    </tr>\n",
       "  </tbody>\n",
       "</table>\n",
       "</div>"
      ],
      "text/plain": [
       "   #                   Name Type 1  Type 2  Total  HP  Attack  Defense  \\\n",
       "0  1              Bulbasaur  Grass  Poison    318  45      49       49   \n",
       "1  2                Ivysaur  Grass  Poison    405  60      62       63   \n",
       "2  3               Venusaur  Grass  Poison    525  80      82       83   \n",
       "3  3  VenusaurMega Venusaur  Grass  Poison    625  80     100      123   \n",
       "4  4             Charmander   Fire     NaN    309  39      52       43   \n",
       "\n",
       "   Sp. Atk  Sp. Def  Speed  Generation  Legendary  \n",
       "0       65       65     45           1      False  \n",
       "1       80       80     60           1      False  \n",
       "2      100      100     80           1      False  \n",
       "3      122      120     80           1      False  \n",
       "4       60       50     65           1      False  "
      ]
     },
     "execution_count": 46,
     "metadata": {},
     "output_type": "execute_result"
    }
   ],
   "source": [
    "pokemon_data = pd.read_csv('Pokemon.csv')\n",
    "pokemon_data.head()"
   ]
  },
  {
   "cell_type": "code",
   "execution_count": 47,
   "id": "404e4c31-2ecc-4221-9f67-e40a7ee8c69d",
   "metadata": {},
   "outputs": [
    {
     "data": {
      "text/plain": [
       "(800, 13)"
      ]
     },
     "execution_count": 47,
     "metadata": {},
     "output_type": "execute_result"
    }
   ],
   "source": [
    "pokemon_data.shape"
   ]
  },
  {
   "cell_type": "code",
   "execution_count": 48,
   "id": "2c0db842-cf80-4c9f-8788-710f65f18c57",
   "metadata": {},
   "outputs": [
    {
     "data": {
      "text/plain": [
       "#               0\n",
       "Name            0\n",
       "Type 1          0\n",
       "Type 2        386\n",
       "Total           0\n",
       "HP              0\n",
       "Attack          0\n",
       "Defense         0\n",
       "Sp. Atk         0\n",
       "Sp. Def         0\n",
       "Speed           0\n",
       "Generation      0\n",
       "Legendary       0\n",
       "dtype: int64"
      ]
     },
     "execution_count": 48,
     "metadata": {},
     "output_type": "execute_result"
    }
   ],
   "source": [
    "pokemon_data.isnull().sum()"
   ]
  },
  {
   "cell_type": "code",
   "execution_count": 49,
   "id": "911fc90c-c2c9-4694-b481-de95017103a1",
   "metadata": {},
   "outputs": [
    {
     "name": "stdout",
     "output_type": "stream",
     "text": [
      "<class 'pandas.core.frame.DataFrame'>\n",
      "RangeIndex: 800 entries, 0 to 799\n",
      "Data columns (total 13 columns):\n",
      " #   Column      Non-Null Count  Dtype \n",
      "---  ------      --------------  ----- \n",
      " 0   #           800 non-null    int64 \n",
      " 1   Name        800 non-null    object\n",
      " 2   Type 1      800 non-null    object\n",
      " 3   Type 2      414 non-null    object\n",
      " 4   Total       800 non-null    int64 \n",
      " 5   HP          800 non-null    int64 \n",
      " 6   Attack      800 non-null    int64 \n",
      " 7   Defense     800 non-null    int64 \n",
      " 8   Sp. Atk     800 non-null    int64 \n",
      " 9   Sp. Def     800 non-null    int64 \n",
      " 10  Speed       800 non-null    int64 \n",
      " 11  Generation  800 non-null    int64 \n",
      " 12  Legendary   800 non-null    bool  \n",
      "dtypes: bool(1), int64(9), object(3)\n",
      "memory usage: 75.9+ KB\n"
     ]
    }
   ],
   "source": [
    "pokemon_data.info()"
   ]
  },
  {
   "cell_type": "code",
   "execution_count": 50,
   "id": "31c75159-5adc-4063-9573-cd45cd4991c2",
   "metadata": {},
   "outputs": [
    {
     "data": {
      "text/plain": [
       "#             721\n",
       "Name          800\n",
       "Type 1         18\n",
       "Type 2         18\n",
       "Total         200\n",
       "HP             94\n",
       "Attack        111\n",
       "Defense       103\n",
       "Sp. Atk       105\n",
       "Sp. Def        92\n",
       "Speed         108\n",
       "Generation      6\n",
       "Legendary       2\n",
       "dtype: int64"
      ]
     },
     "execution_count": 50,
     "metadata": {},
     "output_type": "execute_result"
    }
   ],
   "source": [
    "pokemon_data.nunique()"
   ]
  },
  {
   "cell_type": "code",
   "execution_count": 51,
   "id": "1d590e6f-3a82-45db-87d5-fcaed9756e4b",
   "metadata": {},
   "outputs": [
    {
     "data": {
      "text/plain": [
       "array([False,  True])"
      ]
     },
     "execution_count": 51,
     "metadata": {},
     "output_type": "execute_result"
    }
   ],
   "source": [
    "pokemon_data_obj_cols = [col for col in pokemon_data if pokemon_data[col].dtype == 'object']\n",
    "\n",
    "pokemon_data[pokemon_data_obj_cols].nunique()\n",
    "\n",
    "pokemon_data['Legendary'].unique()"
   ]
  },
  {
   "cell_type": "code",
   "execution_count": 52,
   "id": "a4c2c5bf-604c-4d12-8632-d0167259667a",
   "metadata": {},
   "outputs": [
    {
     "name": "stdout",
     "output_type": "stream",
     "text": [
      "   #                   Name Type 1  Type 2  Total  HP  Attack  Defense  \\\n",
      "0  1              Bulbasaur  Grass  Poison    318  45      49       49   \n",
      "1  2                Ivysaur  Grass  Poison    405  60      62       63   \n",
      "2  3               Venusaur  Grass  Poison    525  80      82       83   \n",
      "3  3  VenusaurMega Venusaur  Grass  Poison    625  80     100      123   \n",
      "4  4             Charmander   Fire     NaN    309  39      52       43   \n",
      "\n",
      "   Sp. Atk  Sp. Def  Speed  Generation  Legendary_False  Legendary_True  \n",
      "0       65       65     45           1              1.0             0.0  \n",
      "1       80       80     60           1              1.0             0.0  \n",
      "2      100      100     80           1              1.0             0.0  \n",
      "3      122      120     80           1              1.0             0.0  \n",
      "4       60       50     65           1              1.0             0.0  \n"
     ]
    }
   ],
   "source": [
    "import pandas as pd\n",
    "from sklearn.preprocessing import OneHotEncoder\n",
    "\n",
    "# Assuming pokemon_data is your DataFrame and ohe is your OneHotEncoder instance\n",
    "\n",
    "# Fit and transform OneHotEncoder\n",
    "ohe = OneHotEncoder(handle_unknown='ignore', sparse_output=False)\n",
    "transformed_data = ohe.fit_transform(pokemon_data[['Legendary']])\n",
    "col_names = ohe.get_feature_names_out(['Legendary'])\n",
    "\n",
    "# Create DataFrame with transformed data and specified columns\n",
    "columns_transformed = pd.DataFrame(transformed_data, columns=col_names)\n",
    "\n",
    "# # Reset index of pokemon_data and columns_transformed\n",
    "# pokemon_data.reset_index(drop=True, inplace=True)\n",
    "# columns_transformed.reset_index(drop=True, inplace=True)\n",
    "\n",
    "# Concatenate pokemon_data with columns_transformed\n",
    "pokemon_data = pd.concat([pokemon_data, columns_transformed], axis=1)\n",
    "\n",
    "# Drop original 'Legendary' column if needed\n",
    "pokemon_data.drop(['Legendary'], axis=1, inplace=True)\n",
    "\n",
    "# Display first few rows to verify\n",
    "print(pokemon_data.head())\n",
    "\n"
   ]
  },
  {
   "cell_type": "code",
   "execution_count": 53,
   "id": "5ec0fdbb-7943-4875-bd79-28e0d27fbf2e",
   "metadata": {},
   "outputs": [
    {
     "name": "stdout",
     "output_type": "stream",
     "text": [
      "<class 'pandas.core.frame.DataFrame'>\n",
      "RangeIndex: 800 entries, 0 to 799\n",
      "Data columns (total 14 columns):\n",
      " #   Column           Non-Null Count  Dtype  \n",
      "---  ------           --------------  -----  \n",
      " 0   #                800 non-null    int64  \n",
      " 1   Name             800 non-null    object \n",
      " 2   Type 1           800 non-null    object \n",
      " 3   Type 2           414 non-null    object \n",
      " 4   Total            800 non-null    int64  \n",
      " 5   HP               800 non-null    int64  \n",
      " 6   Attack           800 non-null    int64  \n",
      " 7   Defense          800 non-null    int64  \n",
      " 8   Sp. Atk          800 non-null    int64  \n",
      " 9   Sp. Def          800 non-null    int64  \n",
      " 10  Speed            800 non-null    int64  \n",
      " 11  Generation       800 non-null    int64  \n",
      " 12  Legendary_False  800 non-null    float64\n",
      " 13  Legendary_True   800 non-null    float64\n",
      "dtypes: float64(2), int64(9), object(3)\n",
      "memory usage: 87.6+ KB\n"
     ]
    }
   ],
   "source": [
    "pokemon_data.info()"
   ]
  },
  {
   "cell_type": "code",
   "execution_count": 69,
   "id": "4ea4c289-8611-4abe-ad00-fbd52ce935bc",
   "metadata": {},
   "outputs": [],
   "source": [
    "X_cols = [col for col in pokemon_data.columns if pokemon_data[col].dtype != 'object']\n",
    "\n",
    "temp_data = pokemon_data.copy(deep=True)\n",
    "\n",
    "from sklearn.preprocessing import OrdinalEncoder\n",
    "\n",
    "oe = OrdinalEncoder()\n",
    "\n",
    "temp_data['Type 1'] = oe.fit_transform(temp_data[['Type 1']])\n",
    "X = temp_data[X_cols]\n",
    "y = temp_data['Type 1']"
   ]
  },
  {
   "cell_type": "code",
   "execution_count": 70,
   "id": "aeb87114-09d1-48a4-a093-36b27a73c500",
   "metadata": {},
   "outputs": [],
   "source": [
    "from sklearn.model_selection import train_test_split\n",
    "\n",
    "X_train, X_test, y_train, y_test = train_test_split(X, y)"
   ]
  },
  {
   "cell_type": "code",
   "execution_count": 75,
   "id": "851a2be6-8477-4ec7-8646-aa9a07a79f59",
   "metadata": {},
   "outputs": [],
   "source": [
    "from sklearn.naive_bayes import MultinomialNB\n",
    "\n",
    "model_1 = MultinomialNB()\n",
    "\n",
    "model_1.fit(X_train, y_train)\n",
    "\n",
    "m_1 = model_1.score(X_test, y_test)"
   ]
  },
  {
   "cell_type": "code",
   "execution_count": 76,
   "id": "edbf9e32-70ca-4f3f-85ef-b52bd3327fa1",
   "metadata": {},
   "outputs": [],
   "source": [
    "from sklearn.naive_bayes import GaussianNB\n",
    "\n",
    "model_2 = GaussianNB()\n",
    "\n",
    "model_2.fit(X_train, y_train)\n",
    "\n",
    "m_2 = model_2.score(X_test, y_test)"
   ]
  },
  {
   "cell_type": "code",
   "execution_count": 77,
   "id": "e990839d-c928-47b3-bfca-ff91eff815da",
   "metadata": {},
   "outputs": [
    {
     "name": "stdout",
     "output_type": "stream",
     "text": [
      "0.09 0.1\n"
     ]
    }
   ],
   "source": [
    "print(m_1, m_2)"
   ]
  },
  {
   "cell_type": "code",
   "execution_count": 78,
   "id": "ec8cfa05-70a2-460d-b388-9dc1f36f5035",
   "metadata": {},
   "outputs": [],
   "source": [
    "from xgboost import XGBClassifier\n",
    "\n",
    "model_3 = XGBClassifier(objective = 'binary:logistic')\n",
    "\n",
    "model_3.fit(X_train, y_train)\n",
    "\n",
    "m_3 = model_3.score(X_test, y_test)"
   ]
  },
  {
   "cell_type": "code",
   "execution_count": 79,
   "id": "d8b31df6-d7cc-4b5c-85b9-2ce8753de1fe",
   "metadata": {},
   "outputs": [
    {
     "data": {
      "text/plain": [
       "0.285"
      ]
     },
     "execution_count": 79,
     "metadata": {},
     "output_type": "execute_result"
    }
   ],
   "source": [
    "m_3"
   ]
  },
  {
   "cell_type": "code",
   "execution_count": null,
   "id": "9c672356-5582-49a9-a535-d139c7ce3aa6",
   "metadata": {},
   "outputs": [],
   "source": []
  }
 ],
 "metadata": {
  "kernelspec": {
   "display_name": "Python 3 (ipykernel)",
   "language": "python",
   "name": "python3"
  },
  "language_info": {
   "codemirror_mode": {
    "name": "ipython",
    "version": 3
   },
   "file_extension": ".py",
   "mimetype": "text/x-python",
   "name": "python",
   "nbconvert_exporter": "python",
   "pygments_lexer": "ipython3",
   "version": "3.10.12"
  }
 },
 "nbformat": 4,
 "nbformat_minor": 5
}
